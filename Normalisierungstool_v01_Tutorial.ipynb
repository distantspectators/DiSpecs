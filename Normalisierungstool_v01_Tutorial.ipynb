{
 "cells": [
  {
   "cell_type": "markdown",
   "metadata": {},
   "source": [
    "# Tutorial\n",
    "This tutorial explains how normalization can be done file-based. This tutorial, and the used files, explain the normalization at the hand of the two named entities (NEs) \"la Haye\" and \"la Haïe\", which are eventually both normalized to \"The Hague\""
   ]
  },
  {
   "cell_type": "code",
   "execution_count": 1,
   "metadata": {},
   "outputs": [],
   "source": [
    "import pandas as pd\n",
    "import matplotlib.pyplot as plt\n",
    "import seaborn as sns\n",
    "import numpy as np"
   ]
  },
  {
   "cell_type": "markdown",
   "metadata": {},
   "source": [
    "### Settings"
   ]
  },
  {
   "cell_type": "code",
   "execution_count": 2,
   "metadata": {},
   "outputs": [],
   "source": [
    "type_of_NE='places' # or \"works\" or \"persons\"\n",
    "character_margin=50 # number of characters to display before and after the named entity"
   ]
  },
  {
   "cell_type": "markdown",
   "metadata": {},
   "source": [
    "### Loading"
   ]
  },
  {
   "cell_type": "code",
   "execution_count": 3,
   "metadata": {},
   "outputs": [],
   "source": [
    "texts_df = pd.read_pickle(\"data/processed/texts.p\")"
   ]
  },
  {
   "cell_type": "code",
   "execution_count": 4,
   "metadata": {},
   "outputs": [
    {
     "data": {
      "text/html": [
       "<div>\n",
       "<style scoped>\n",
       "    .dataframe tbody tr th:only-of-type {\n",
       "        vertical-align: middle;\n",
       "    }\n",
       "\n",
       "    .dataframe tbody tr th {\n",
       "        vertical-align: top;\n",
       "    }\n",
       "\n",
       "    .dataframe thead th {\n",
       "        text-align: right;\n",
       "    }\n",
       "</style>\n",
       "<table border=\"1\" class=\"dataframe\">\n",
       "  <thead>\n",
       "    <tr style=\"text-align: right;\">\n",
       "      <th></th>\n",
       "      <th>nde</th>\n",
       "      <th>ndf</th>\n",
       "      <th>text</th>\n",
       "      <th>places</th>\n",
       "      <th>persons</th>\n",
       "      <th>works</th>\n",
       "      <th>filename</th>\n",
       "      <th>title</th>\n",
       "      <th>volume</th>\n",
       "      <th>issue</th>\n",
       "      <th>journal_title</th>\n",
       "      <th>author</th>\n",
       "      <th>country</th>\n",
       "      <th>language</th>\n",
       "      <th>date</th>\n",
       "      <th>topics</th>\n",
       "    </tr>\n",
       "  </thead>\n",
       "  <tbody>\n",
       "    <tr>\n",
       "      <td>0</td>\n",
       "      <td>E1</td>\n",
       "      <td>NaN</td>\n",
       "      <td>N°. xv . Le Lundi 18. de Juin 1714. pruntons l...</td>\n",
       "      <td>{'la Haye': {'norm': '', 'num': 2}, 'Montpelli...</td>\n",
       "      <td>{'H. Scheurleer': {'norm': 'Scheurleer, Henri'...</td>\n",
       "      <td>{}</td>\n",
       "      <td>mws.6497.xml</td>\n",
       "      <td>N°. XV.</td>\n",
       "      <td>1</td>\n",
       "      <td>015</td>\n",
       "      <td>Le Censeur ou Caractères des Mœurs de la Haye</td>\n",
       "      <td>Anonym [Jean Rousset de Missy / Nicolas de Gue...</td>\n",
       "      <td>Frankreich</td>\n",
       "      <td>French</td>\n",
       "      <td>1715 [1714]</td>\n",
       "      <td>{Manners and Customs}</td>\n",
       "    </tr>\n",
       "    <tr>\n",
       "      <td>1</td>\n",
       "      <td>E2</td>\n",
       "      <td>NaN</td>\n",
       "      <td>A la vérité on se lasse d’entendre un donneur ...</td>\n",
       "      <td>{}</td>\n",
       "      <td>{}</td>\n",
       "      <td>{}</td>\n",
       "      <td>mws.6497.xml</td>\n",
       "      <td>N°. XV.</td>\n",
       "      <td>1</td>\n",
       "      <td>015</td>\n",
       "      <td>Le Censeur ou Caractères des Mœurs de la Haye</td>\n",
       "      <td>Anonym [Jean Rousset de Missy / Nicolas de Gue...</td>\n",
       "      <td>Frankreich</td>\n",
       "      <td>French</td>\n",
       "      <td>1715 [1714]</td>\n",
       "      <td>{Manners and Customs}</td>\n",
       "    </tr>\n",
       "    <tr>\n",
       "      <td>2</td>\n",
       "      <td>E2</td>\n",
       "      <td>MT</td>\n",
       "      <td>Em Boileau pour entamer ce Discours-ci. Il me ...</td>\n",
       "      <td>{'la Haïe': {'norm': '', 'num': 2}, 'Paris': {...</td>\n",
       "      <td>{'Boileau': {'norm': 'Boileau-Despréaux, Nicol...</td>\n",
       "      <td>{}</td>\n",
       "      <td>mws.6497.xml</td>\n",
       "      <td>N°. XV.</td>\n",
       "      <td>1</td>\n",
       "      <td>015</td>\n",
       "      <td>Le Censeur ou Caractères des Mœurs de la Haye</td>\n",
       "      <td>Anonym [Jean Rousset de Missy / Nicolas de Gue...</td>\n",
       "      <td>Frankreich</td>\n",
       "      <td>French</td>\n",
       "      <td>1715 [1714]</td>\n",
       "      <td>{Manners and Customs}</td>\n",
       "    </tr>\n",
       "  </tbody>\n",
       "</table>\n",
       "</div>"
      ],
      "text/plain": [
       "  nde  ndf                                               text  \\\n",
       "0  E1  NaN  N°. xv . Le Lundi 18. de Juin 1714. pruntons l...   \n",
       "1  E2  NaN  A la vérité on se lasse d’entendre un donneur ...   \n",
       "2  E2   MT  Em Boileau pour entamer ce Discours-ci. Il me ...   \n",
       "\n",
       "                                              places  \\\n",
       "0  {'la Haye': {'norm': '', 'num': 2}, 'Montpelli...   \n",
       "1                                                 {}   \n",
       "2  {'la Haïe': {'norm': '', 'num': 2}, 'Paris': {...   \n",
       "\n",
       "                                             persons works      filename  \\\n",
       "0  {'H. Scheurleer': {'norm': 'Scheurleer, Henri'...    {}  mws.6497.xml   \n",
       "1                                                 {}    {}  mws.6497.xml   \n",
       "2  {'Boileau': {'norm': 'Boileau-Despréaux, Nicol...    {}  mws.6497.xml   \n",
       "\n",
       "     title volume issue                                  journal_title  \\\n",
       "0  N°. XV.      1   015  Le Censeur ou Caractères des Mœurs de la Haye   \n",
       "1  N°. XV.      1   015  Le Censeur ou Caractères des Mœurs de la Haye   \n",
       "2  N°. XV.      1   015  Le Censeur ou Caractères des Mœurs de la Haye   \n",
       "\n",
       "                                              author     country language  \\\n",
       "0  Anonym [Jean Rousset de Missy / Nicolas de Gue...  Frankreich   French   \n",
       "1  Anonym [Jean Rousset de Missy / Nicolas de Gue...  Frankreich   French   \n",
       "2  Anonym [Jean Rousset de Missy / Nicolas de Gue...  Frankreich   French   \n",
       "\n",
       "          date                 topics  \n",
       "0  1715 [1714]  {Manners and Customs}  \n",
       "1  1715 [1714]  {Manners and Customs}  \n",
       "2  1715 [1714]  {Manners and Customs}  "
      ]
     },
     "execution_count": 4,
     "metadata": {},
     "output_type": "execute_result"
    }
   ],
   "source": [
    "texts_df.head(3)"
   ]
  },
  {
   "cell_type": "code",
   "execution_count": 5,
   "metadata": {},
   "outputs": [
    {
     "name": "stdout",
     "output_type": "stream",
     "text": [
      "Number of unique names entities: 1657\n",
      "Number of names entities occurring more than once: 564\n",
      "Number of names entities occurring more than 5 times: 154\n"
     ]
    }
   ],
   "source": [
    "NE_series = pd.Series()\n",
    "for NEs in texts_df[type_of_NE]:\n",
    "    for NE in NEs:\n",
    "        if NEs.get(NE).get('norm') == \"\":\n",
    "            if NE not in NE_series:\n",
    "                NE_series[NE] = 1\n",
    "            else:\n",
    "                NE_series[NE] += 1\n",
    "        else:\n",
    "            if NEs.get(NE).get('norm') not in NE_series:\n",
    "                NE_series[NEs.get(NE).get('norm')] = 1\n",
    "            else:\n",
    "                NE_series[NEs.get(NE).get('norm')] += 1\n",
    "print('Number of unique names entities: ' + str(len(NE_series)))\n",
    "print('Number of names entities occurring more than once: ' + str(len(NE_series[NE_series>1])))\n",
    "print('Number of names entities occurring more than 5 times: ' + str(len(NE_series[NE_series>5])))"
   ]
  },
  {
   "cell_type": "markdown",
   "metadata": {},
   "source": [
    "### Storing all unnormalized named entities\n",
    "In this file, there is an additional column with title 'Unclear'. If the named entity is unclear, add a \"x\" in this column"
   ]
  },
  {
   "cell_type": "code",
   "execution_count": 6,
   "metadata": {},
   "outputs": [
    {
     "data": {
      "text/html": [
       "<div>\n",
       "<style scoped>\n",
       "    .dataframe tbody tr th:only-of-type {\n",
       "        vertical-align: middle;\n",
       "    }\n",
       "\n",
       "    .dataframe tbody tr th {\n",
       "        vertical-align: top;\n",
       "    }\n",
       "\n",
       "    .dataframe thead th {\n",
       "        text-align: right;\n",
       "    }\n",
       "</style>\n",
       "<table border=\"1\" class=\"dataframe\">\n",
       "  <thead>\n",
       "    <tr style=\"text-align: right;\">\n",
       "      <th></th>\n",
       "      <th>Counts</th>\n",
       "      <th>Unclear</th>\n",
       "    </tr>\n",
       "  </thead>\n",
       "  <tbody>\n",
       "    <tr>\n",
       "      <td>la Haye</td>\n",
       "      <td>45</td>\n",
       "      <td></td>\n",
       "    </tr>\n",
       "    <tr>\n",
       "      <td>Montpellier</td>\n",
       "      <td>4</td>\n",
       "      <td></td>\n",
       "    </tr>\n",
       "    <tr>\n",
       "      <td>Groningue</td>\n",
       "      <td>6</td>\n",
       "      <td></td>\n",
       "    </tr>\n",
       "    <tr>\n",
       "      <td>Amsterdam</td>\n",
       "      <td>66</td>\n",
       "      <td></td>\n",
       "    </tr>\n",
       "    <tr>\n",
       "      <td>la Haïe</td>\n",
       "      <td>2</td>\n",
       "      <td></td>\n",
       "    </tr>\n",
       "  </tbody>\n",
       "</table>\n",
       "</div>"
      ],
      "text/plain": [
       "             Counts Unclear\n",
       "la Haye          45        \n",
       "Montpellier       4        \n",
       "Groningue         6        \n",
       "Amsterdam        66        \n",
       "la Haïe           2        "
      ]
     },
     "execution_count": 6,
     "metadata": {},
     "output_type": "execute_result"
    }
   ],
   "source": [
    "NE_df=pd.DataFrame(NE_series)\n",
    "NE_df=NE_df.rename({0:\"Counts\"},axis=1)\n",
    "NE_df['Unclear']=\"\"\n",
    "NE_df.to_csv('NE_names.csv')\n",
    "NE_df.head(5)"
   ]
  },
  {
   "cell_type": "markdown",
   "metadata": {},
   "source": [
    "# Interaction Necessary:\n",
    "Open the file \"NE_names.csv\" in Excel and browse through the list of unnormalized named entities. If any of the named entities is unclear or ambigouous, then add an \"x\" in the corresponding column \"Unclear\". Save the changed Excel file as \"NE_names_marked.csv\".\n",
    "# ______________________"
   ]
  },
  {
   "cell_type": "code",
   "execution_count": 7,
   "metadata": {},
   "outputs": [
    {
     "data": {
      "text/html": [
       "<div>\n",
       "<style scoped>\n",
       "    .dataframe tbody tr th:only-of-type {\n",
       "        vertical-align: middle;\n",
       "    }\n",
       "\n",
       "    .dataframe tbody tr th {\n",
       "        vertical-align: top;\n",
       "    }\n",
       "\n",
       "    .dataframe thead th {\n",
       "        text-align: right;\n",
       "    }\n",
       "</style>\n",
       "<table border=\"1\" class=\"dataframe\">\n",
       "  <thead>\n",
       "    <tr style=\"text-align: right;\">\n",
       "      <th></th>\n",
       "      <th>Counts</th>\n",
       "      <th>Unclear</th>\n",
       "    </tr>\n",
       "  </thead>\n",
       "  <tbody>\n",
       "    <tr>\n",
       "      <td>la Haye</td>\n",
       "      <td>45</td>\n",
       "      <td>x</td>\n",
       "    </tr>\n",
       "    <tr>\n",
       "      <td>Montpellier</td>\n",
       "      <td>4</td>\n",
       "      <td>NaN</td>\n",
       "    </tr>\n",
       "    <tr>\n",
       "      <td>Groningue</td>\n",
       "      <td>6</td>\n",
       "      <td>NaN</td>\n",
       "    </tr>\n",
       "    <tr>\n",
       "      <td>Amsterdam</td>\n",
       "      <td>66</td>\n",
       "      <td>NaN</td>\n",
       "    </tr>\n",
       "    <tr>\n",
       "      <td>la Haïe</td>\n",
       "      <td>2</td>\n",
       "      <td>x</td>\n",
       "    </tr>\n",
       "  </tbody>\n",
       "</table>\n",
       "</div>"
      ],
      "text/plain": [
       "             Counts Unclear\n",
       "la Haye          45       x\n",
       "Montpellier       4     NaN\n",
       "Groningue         6     NaN\n",
       "Amsterdam        66     NaN\n",
       "la Haïe           2       x"
      ]
     },
     "execution_count": 7,
     "metadata": {},
     "output_type": "execute_result"
    }
   ],
   "source": [
    "NE_marked=pd.read_csv('NE_names_marked.csv',index_col=0)\n",
    "NE_marked.head(5)"
   ]
  },
  {
   "cell_type": "code",
   "execution_count": 8,
   "metadata": {},
   "outputs": [
    {
     "data": {
      "text/plain": [
       "['la Haye', 'la Haïe']"
      ]
     },
     "execution_count": 8,
     "metadata": {},
     "output_type": "execute_result"
    }
   ],
   "source": [
    "list_of_unclear_NEs=list(NE_marked.loc[NE_marked[\"Unclear\"]==\"x\"].index)\n",
    "list_of_unclear_NEs"
   ]
  },
  {
   "cell_type": "code",
   "execution_count": 9,
   "metadata": {},
   "outputs": [],
   "source": [
    "output_df=pd.DataFrame(columns=['old_index','NE','normalized_NE','text'])\n",
    "for unclear_NE in list_of_unclear_NEs:\n",
    "    for ind in range(len(texts_df)):\n",
    "        if unclear_NE in texts_df[type_of_NE][ind]:\n",
    "            if texts_df[type_of_NE][ind].get(unclear_NE).get('norm')=='':\n",
    "                normalized_NE=''\n",
    "            else:\n",
    "                normalized_NE=texts_df[type_of_NE][ind].get(unclear_NE).get('norm')\n",
    "                \n",
    "            NE_position=texts_df['text'][ind].find(unclear_NE)\n",
    "            text=texts_df['text'][ind][max(0,NE_position-character_margin):min(len(texts_df['text'][ind]),NE_position+character_margin+len(unclear_NE))]\n",
    "            output_df=output_df.append({'old_index':ind, 'NE':unclear_NE,'normalized_NE':normalized_NE,'text':text},ignore_index=True)\n",
    "        else:\n",
    "            for NE in texts_df[type_of_NE][ind]:\n",
    "                if unclear_NE == texts_df[type_of_NE][ind].get(NE).get('norm'):\n",
    "                    NE_position=texts_df['text'][ind].find(NE)\n",
    "                    text=texts_df['text'][ind][max(0,NE_position-character_margin):min(len(texts_df['text'][ind]),NE_position+character_margin+len(NE))]\n",
    "                    output_df=output_df.append({'old_index':ind, 'NE':NE,'normalized_NE':unclear_NE,'text':text},ignore_index=True)"
   ]
  },
  {
   "cell_type": "code",
   "execution_count": 10,
   "metadata": {},
   "outputs": [],
   "source": [
    "output_df.to_csv('NEs_to_normalize.csv',sep='|')"
   ]
  },
  {
   "cell_type": "markdown",
   "metadata": {},
   "source": [
    "# Interaction Necessary:\n",
    "Open the file \"NEs_to_normalize.csv\" in Excel, using only the symbol \"|\" as separator. This file contains every occurrence of every named entity that was marked as unclear or ambiguous, together with the text it is surrounded with. For reference, it also occurs normalizations of named entities, if available. For every occurrence, add the normalization in the column \"normalized_NE\". Save the changed Excel file as \"NE_normalized.csv\".\n",
    "# ______________________"
   ]
  },
  {
   "cell_type": "code",
   "execution_count": 11,
   "metadata": {},
   "outputs": [
    {
     "data": {
      "text/html": [
       "<div>\n",
       "<style scoped>\n",
       "    .dataframe tbody tr th:only-of-type {\n",
       "        vertical-align: middle;\n",
       "    }\n",
       "\n",
       "    .dataframe tbody tr th {\n",
       "        vertical-align: top;\n",
       "    }\n",
       "\n",
       "    .dataframe thead th {\n",
       "        text-align: right;\n",
       "    }\n",
       "</style>\n",
       "<table border=\"1\" class=\"dataframe\">\n",
       "  <thead>\n",
       "    <tr style=\"text-align: right;\">\n",
       "      <th></th>\n",
       "      <th>old_index</th>\n",
       "      <th>NE</th>\n",
       "      <th>normalized_NE</th>\n",
       "      <th>text</th>\n",
       "    </tr>\n",
       "  </thead>\n",
       "  <tbody>\n",
       "    <tr>\n",
       "      <td>0</td>\n",
       "      <td>0</td>\n",
       "      <td>la Haye</td>\n",
       "      <td>The Hague</td>\n",
       "      <td>ement . On trouve chez H. Scheurleer , Librair...</td>\n",
       "    </tr>\n",
       "    <tr>\n",
       "      <td>1</td>\n",
       "      <td>284</td>\n",
       "      <td>la Haye</td>\n",
       "      <td>The Hague</td>\n",
       "      <td>N°. xli . Le Lundi 17. de Décembre 1714. A la ...</td>\n",
       "    </tr>\n",
       "    <tr>\n",
       "      <td>2</td>\n",
       "      <td>328</td>\n",
       "      <td>la Haye</td>\n",
       "      <td>The Hague</td>\n",
       "      <td>N°. xxiii . Le Lundi 13. d’Août 1714. A la Hay...</td>\n",
       "    </tr>\n",
       "  </tbody>\n",
       "</table>\n",
       "</div>"
      ],
      "text/plain": [
       "   old_index       NE normalized_NE  \\\n",
       "0          0  la Haye     The Hague   \n",
       "1        284  la Haye     The Hague   \n",
       "2        328  la Haye     The Hague   \n",
       "\n",
       "                                                text  \n",
       "0  ement . On trouve chez H. Scheurleer , Librair...  \n",
       "1  N°. xli . Le Lundi 17. de Décembre 1714. A la ...  \n",
       "2  N°. xxiii . Le Lundi 13. d’Août 1714. A la Hay...  "
      ]
     },
     "execution_count": 11,
     "metadata": {},
     "output_type": "execute_result"
    }
   ],
   "source": [
    "normalized_df=pd.read_csv('NEs_normalized.csv',sep='|',index_col=0)\n",
    "normalized_df.head(3)"
   ]
  },
  {
   "cell_type": "markdown",
   "metadata": {},
   "source": [
    "### Add normalization to the dataframe"
   ]
  },
  {
   "cell_type": "code",
   "execution_count": 12,
   "metadata": {},
   "outputs": [],
   "source": [
    "for ind in range(len(normalized_df)):\n",
    "    texts_df[type_of_NE][normalized_df['old_index'][ind]][normalized_df['NE'][ind]]['norm']=normalized_df['normalized_NE'][ind]"
   ]
  },
  {
   "cell_type": "code",
   "execution_count": 13,
   "metadata": {},
   "outputs": [
    {
     "name": "stdout",
     "output_type": "stream",
     "text": [
      "Number of unique names entities: 1655\n",
      "Number of names entities occurring more than once: 562\n",
      "Number of names entities occurring more than 5 times: 153\n"
     ]
    }
   ],
   "source": [
    "NE_series = pd.Series()\n",
    "for NEs in texts_df[type_of_NE]:\n",
    "    for NE in NEs:\n",
    "        if NEs.get(NE).get('norm') == \"\":\n",
    "            if NE not in NE_series:\n",
    "                NE_series[NE] = 1\n",
    "            else:\n",
    "                NE_series[NE] += 1\n",
    "        else:\n",
    "            if NEs.get(NE).get('norm') not in NE_series:\n",
    "                NE_series[NEs.get(NE).get('norm')] = 1\n",
    "            else:\n",
    "                NE_series[NEs.get(NE).get('norm')] += 1\n",
    "print('Number of unique names entities: ' + str(len(NE_series)))\n",
    "print('Number of names entities occurring more than once: ' + str(len(NE_series[NE_series>1])))\n",
    "print('Number of names entities occurring more than 5 times: ' + str(len(NE_series[NE_series>5])))"
   ]
  },
  {
   "cell_type": "markdown",
   "metadata": {},
   "source": [
    "One can now save back the normalization to the pickle file."
   ]
  },
  {
   "cell_type": "code",
   "execution_count": 14,
   "metadata": {},
   "outputs": [],
   "source": [
    "texts_df.to_pickle(\"data/processed/texts_normalized.p\")"
   ]
  }
 ],
 "metadata": {
  "kernelspec": {
   "display_name": "Python 3",
   "language": "python",
   "name": "python3"
  },
  "language_info": {
   "codemirror_mode": {
    "name": "ipython",
    "version": 3
   },
   "file_extension": ".py",
   "mimetype": "text/x-python",
   "name": "python",
   "nbconvert_exporter": "python",
   "pygments_lexer": "ipython3",
   "version": "3.6.5"
  }
 },
 "nbformat": 4,
 "nbformat_minor": 2
}
