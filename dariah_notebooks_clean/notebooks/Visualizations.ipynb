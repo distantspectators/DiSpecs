{
 "cells": [
  {
   "cell_type": "code",
   "execution_count": 1,
   "metadata": {},
   "outputs": [
    {
     "name": "stderr",
     "output_type": "stream",
     "text": [
      "C:\\Users\\acer\\Anaconda3\\lib\\site-packages\\smart_open\\ssh.py:34: UserWarning: paramiko missing, opening SSH/SCP/SFTP paths will be disabled.  `pip install paramiko` to suppress\n",
      "  warnings.warn('paramiko missing, opening SSH/SCP/SFTP paths will be disabled.  `pip install paramiko` to suppress')\n"
     ]
    }
   ],
   "source": [
    "from cophi_toolbox import preprocessing\n",
    "from dariah_topics import postprocessing\n",
    "from dariah_topics import visualization\n",
    "import metadata_toolbox.utils as metadata\n",
    "from pathlib import Path\n",
    "import pandas as pd\n",
    "import lda"
   ]
  },
  {
   "cell_type": "code",
   "execution_count": 2,
   "metadata": {},
   "outputs": [],
   "source": [
    "path_to_corpus = Path('data', 'grenzboten_sample')\n",
    "pattern = '{author}_{year}_{title}'"
   ]
  },
  {
   "cell_type": "code",
   "execution_count": 3,
   "metadata": {},
   "outputs": [
    {
     "data": {
      "text/html": [
       "<div>\n",
       "<style scoped>\n",
       "    .dataframe tbody tr th:only-of-type {\n",
       "        vertical-align: middle;\n",
       "    }\n",
       "\n",
       "    .dataframe tbody tr th {\n",
       "        vertical-align: top;\n",
       "    }\n",
       "\n",
       "    .dataframe thead th {\n",
       "        text-align: right;\n",
       "    }\n",
       "</style>\n",
       "<table border=\"1\" class=\"dataframe\">\n",
       "  <thead>\n",
       "    <tr style=\"text-align: right;\">\n",
       "      <th></th>\n",
       "      <th>author</th>\n",
       "      <th>year</th>\n",
       "      <th>title</th>\n",
       "    </tr>\n",
       "  </thead>\n",
       "  <tbody>\n",
       "    <tr>\n",
       "      <th>data\\grenzboten_sample\\Beck_1844_Tagebuch_56.txt</th>\n",
       "      <td>Beck</td>\n",
       "      <td>1844</td>\n",
       "      <td>Tagebuch_56</td>\n",
       "    </tr>\n",
       "    <tr>\n",
       "      <th>data\\grenzboten_sample\\Berto_1915_Kriegstagebuch_94.txt</th>\n",
       "      <td>Berto</td>\n",
       "      <td>1915</td>\n",
       "      <td>Kriegstagebuch_94</td>\n",
       "    </tr>\n",
       "    <tr>\n",
       "      <th>data\\grenzboten_sample\\Castelli_1846_Tagebuch_51.txt</th>\n",
       "      <td>Castelli</td>\n",
       "      <td>1846</td>\n",
       "      <td>Tagebuch_51</td>\n",
       "    </tr>\n",
       "    <tr>\n",
       "      <th>data\\grenzboten_sample\\Cleinom_1914_Kriegstagebuch_94.txt</th>\n",
       "      <td>Cleinom</td>\n",
       "      <td>1914</td>\n",
       "      <td>Kriegstagebuch_94</td>\n",
       "    </tr>\n",
       "    <tr>\n",
       "      <th>data\\grenzboten_sample\\Dix_1914_Kriegstagebuch_37.txt</th>\n",
       "      <td>Dix</td>\n",
       "      <td>1914</td>\n",
       "      <td>Kriegstagebuch_37</td>\n",
       "    </tr>\n",
       "  </tbody>\n",
       "</table>\n",
       "</div>"
      ],
      "text/plain": [
       "                                                      author  year  \\\n",
       "data\\grenzboten_sample\\Beck_1844_Tagebuch_56.txt        Beck  1844   \n",
       "data\\grenzboten_sample\\Berto_1915_Kriegstagebuc...     Berto  1915   \n",
       "data\\grenzboten_sample\\Castelli_1846_Tagebuch_5...  Castelli  1846   \n",
       "data\\grenzboten_sample\\Cleinom_1914_Kriegstageb...   Cleinom  1914   \n",
       "data\\grenzboten_sample\\Dix_1914_Kriegstagebuch_...       Dix  1914   \n",
       "\n",
       "                                                                title  \n",
       "data\\grenzboten_sample\\Beck_1844_Tagebuch_56.txt          Tagebuch_56  \n",
       "data\\grenzboten_sample\\Berto_1915_Kriegstagebuc...  Kriegstagebuch_94  \n",
       "data\\grenzboten_sample\\Castelli_1846_Tagebuch_5...        Tagebuch_51  \n",
       "data\\grenzboten_sample\\Cleinom_1914_Kriegstageb...  Kriegstagebuch_94  \n",
       "data\\grenzboten_sample\\Dix_1914_Kriegstagebuch_...  Kriegstagebuch_37  "
      ]
     },
     "execution_count": 3,
     "metadata": {},
     "output_type": "execute_result"
    }
   ],
   "source": [
    "meta = pd.concat([metadata.fname2metadata(str(path), pattern=pattern) for path in path_to_corpus.glob('*.txt')])\n",
    "meta[:5] # by adding '[:5]' to the variable, only the first 5 elements will be printed"
   ]
  },
  {
   "cell_type": "code",
   "execution_count": 4,
   "metadata": {},
   "outputs": [
    {
     "data": {
      "text/plain": [
       "'Tagebuch von Karl Beck. Man spricht seit vierzehn Tagen von einem vollständigen Ministerwechsel und es circuliren im Publicum die verschiedensten Combinationen, wobei heute ganz andere Namen genannt werden, als gestern und morgen wieder andere, als heute.'"
      ]
     },
     "execution_count": 4,
     "metadata": {},
     "output_type": "execute_result"
    }
   ],
   "source": [
    "corpus = list(preprocessing.read_files(meta.index))\n",
    "corpus[0][:255] # printing the first 255 characters of the first document"
   ]
  },
  {
   "cell_type": "code",
   "execution_count": 5,
   "metadata": {},
   "outputs": [
    {
     "data": {
      "text/plain": [
       "['tagebuch',\n",
       " 'von',\n",
       " 'karl',\n",
       " 'beck',\n",
       " 'man',\n",
       " 'spricht',\n",
       " 'seit',\n",
       " 'vierzehn',\n",
       " 'tagen',\n",
       " 'von',\n",
       " 'einem',\n",
       " 'vollständigen',\n",
       " 'ministerwechsel']"
      ]
     },
     "execution_count": 5,
     "metadata": {},
     "output_type": "execute_result"
    }
   ],
   "source": [
    "tokenized_corpus = [list(preprocessing.tokenize(document)) for document in corpus]\n",
    "tokenized_corpus[0][0:13]"
   ]
  },
  {
   "cell_type": "code",
   "execution_count": 6,
   "metadata": {},
   "outputs": [
    {
     "data": {
      "text/html": [
       "<div>\n",
       "<style scoped>\n",
       "    .dataframe tbody tr th:only-of-type {\n",
       "        vertical-align: middle;\n",
       "    }\n",
       "\n",
       "    .dataframe tbody tr th {\n",
       "        vertical-align: top;\n",
       "    }\n",
       "\n",
       "    .dataframe thead th {\n",
       "        text-align: right;\n",
       "    }\n",
       "</style>\n",
       "<table border=\"1\" class=\"dataframe\">\n",
       "  <thead>\n",
       "    <tr style=\"text-align: right;\">\n",
       "      <th></th>\n",
       "      <th>die</th>\n",
       "      <th>der</th>\n",
       "      <th>und</th>\n",
       "      <th>in</th>\n",
       "      <th>den</th>\n",
       "      <th>von</th>\n",
       "      <th>zu</th>\n",
       "      <th>das</th>\n",
       "      <th>des</th>\n",
       "      <th>nicht</th>\n",
       "      <th>...</th>\n",
       "      <th>weitlinge</th>\n",
       "      <th>weitschichtige</th>\n",
       "      <th>welker</th>\n",
       "      <th>welscher</th>\n",
       "      <th>werthschätzung</th>\n",
       "      <th>wesentlicher</th>\n",
       "      <th>wichtigeren</th>\n",
       "      <th>widerliche</th>\n",
       "      <th>widersetzlichen</th>\n",
       "      <th>gasfrage</th>\n",
       "    </tr>\n",
       "  </thead>\n",
       "  <tbody>\n",
       "    <tr>\n",
       "      <th>Tagebuch_56</th>\n",
       "      <td>90.0</td>\n",
       "      <td>92.0</td>\n",
       "      <td>84.0</td>\n",
       "      <td>70.0</td>\n",
       "      <td>30.0</td>\n",
       "      <td>26.0</td>\n",
       "      <td>25.0</td>\n",
       "      <td>16.0</td>\n",
       "      <td>25.0</td>\n",
       "      <td>23.0</td>\n",
       "      <td>...</td>\n",
       "      <td>0.0</td>\n",
       "      <td>0.0</td>\n",
       "      <td>0.0</td>\n",
       "      <td>0.0</td>\n",
       "      <td>0.0</td>\n",
       "      <td>0.0</td>\n",
       "      <td>0.0</td>\n",
       "      <td>0.0</td>\n",
       "      <td>0.0</td>\n",
       "      <td>0.0</td>\n",
       "    </tr>\n",
       "    <tr>\n",
       "      <th>Kriegstagebuch_94</th>\n",
       "      <td>11.0</td>\n",
       "      <td>32.0</td>\n",
       "      <td>24.0</td>\n",
       "      <td>12.0</td>\n",
       "      <td>8.0</td>\n",
       "      <td>17.0</td>\n",
       "      <td>0.0</td>\n",
       "      <td>3.0</td>\n",
       "      <td>5.0</td>\n",
       "      <td>1.0</td>\n",
       "      <td>...</td>\n",
       "      <td>0.0</td>\n",
       "      <td>0.0</td>\n",
       "      <td>0.0</td>\n",
       "      <td>0.0</td>\n",
       "      <td>0.0</td>\n",
       "      <td>0.0</td>\n",
       "      <td>0.0</td>\n",
       "      <td>0.0</td>\n",
       "      <td>0.0</td>\n",
       "      <td>0.0</td>\n",
       "    </tr>\n",
       "    <tr>\n",
       "      <th>Tagebuch_51</th>\n",
       "      <td>226.0</td>\n",
       "      <td>177.0</td>\n",
       "      <td>188.0</td>\n",
       "      <td>111.0</td>\n",
       "      <td>73.0</td>\n",
       "      <td>62.0</td>\n",
       "      <td>93.0</td>\n",
       "      <td>60.0</td>\n",
       "      <td>35.0</td>\n",
       "      <td>78.0</td>\n",
       "      <td>...</td>\n",
       "      <td>0.0</td>\n",
       "      <td>0.0</td>\n",
       "      <td>0.0</td>\n",
       "      <td>0.0</td>\n",
       "      <td>0.0</td>\n",
       "      <td>0.0</td>\n",
       "      <td>0.0</td>\n",
       "      <td>0.0</td>\n",
       "      <td>0.0</td>\n",
       "      <td>0.0</td>\n",
       "    </tr>\n",
       "    <tr>\n",
       "      <th>Kriegstagebuch_94</th>\n",
       "      <td>39.0</td>\n",
       "      <td>48.0</td>\n",
       "      <td>34.0</td>\n",
       "      <td>28.0</td>\n",
       "      <td>15.0</td>\n",
       "      <td>25.0</td>\n",
       "      <td>4.0</td>\n",
       "      <td>5.0</td>\n",
       "      <td>11.0</td>\n",
       "      <td>3.0</td>\n",
       "      <td>...</td>\n",
       "      <td>0.0</td>\n",
       "      <td>0.0</td>\n",
       "      <td>0.0</td>\n",
       "      <td>0.0</td>\n",
       "      <td>0.0</td>\n",
       "      <td>0.0</td>\n",
       "      <td>0.0</td>\n",
       "      <td>0.0</td>\n",
       "      <td>0.0</td>\n",
       "      <td>0.0</td>\n",
       "    </tr>\n",
       "    <tr>\n",
       "      <th>Kriegstagebuch_37</th>\n",
       "      <td>40.0</td>\n",
       "      <td>34.0</td>\n",
       "      <td>15.0</td>\n",
       "      <td>17.0</td>\n",
       "      <td>10.0</td>\n",
       "      <td>19.0</td>\n",
       "      <td>5.0</td>\n",
       "      <td>6.0</td>\n",
       "      <td>18.0</td>\n",
       "      <td>3.0</td>\n",
       "      <td>...</td>\n",
       "      <td>0.0</td>\n",
       "      <td>0.0</td>\n",
       "      <td>0.0</td>\n",
       "      <td>0.0</td>\n",
       "      <td>0.0</td>\n",
       "      <td>0.0</td>\n",
       "      <td>0.0</td>\n",
       "      <td>0.0</td>\n",
       "      <td>0.0</td>\n",
       "      <td>0.0</td>\n",
       "    </tr>\n",
       "  </tbody>\n",
       "</table>\n",
       "<p>5 rows × 24451 columns</p>\n",
       "</div>"
      ],
      "text/plain": [
       "                     die    der    und     in   den   von    zu   das   des  \\\n",
       "Tagebuch_56         90.0   92.0   84.0   70.0  30.0  26.0  25.0  16.0  25.0   \n",
       "Kriegstagebuch_94   11.0   32.0   24.0   12.0   8.0  17.0   0.0   3.0   5.0   \n",
       "Tagebuch_51        226.0  177.0  188.0  111.0  73.0  62.0  93.0  60.0  35.0   \n",
       "Kriegstagebuch_94   39.0   48.0   34.0   28.0  15.0  25.0   4.0   5.0  11.0   \n",
       "Kriegstagebuch_37   40.0   34.0   15.0   17.0  10.0  19.0   5.0   6.0  18.0   \n",
       "\n",
       "                   nicht  ...  weitlinge  weitschichtige  welker  welscher  \\\n",
       "Tagebuch_56         23.0  ...        0.0             0.0     0.0       0.0   \n",
       "Kriegstagebuch_94    1.0  ...        0.0             0.0     0.0       0.0   \n",
       "Tagebuch_51         78.0  ...        0.0             0.0     0.0       0.0   \n",
       "Kriegstagebuch_94    3.0  ...        0.0             0.0     0.0       0.0   \n",
       "Kriegstagebuch_37    3.0  ...        0.0             0.0     0.0       0.0   \n",
       "\n",
       "                   werthschätzung  wesentlicher  wichtigeren  widerliche  \\\n",
       "Tagebuch_56                   0.0           0.0          0.0         0.0   \n",
       "Kriegstagebuch_94             0.0           0.0          0.0         0.0   \n",
       "Tagebuch_51                   0.0           0.0          0.0         0.0   \n",
       "Kriegstagebuch_94             0.0           0.0          0.0         0.0   \n",
       "Kriegstagebuch_37             0.0           0.0          0.0         0.0   \n",
       "\n",
       "                   widersetzlichen  gasfrage  \n",
       "Tagebuch_56                    0.0       0.0  \n",
       "Kriegstagebuch_94              0.0       0.0  \n",
       "Tagebuch_51                    0.0       0.0  \n",
       "Kriegstagebuch_94              0.0       0.0  \n",
       "Kriegstagebuch_37              0.0       0.0  \n",
       "\n",
       "[5 rows x 24451 columns]"
      ]
     },
     "execution_count": 6,
     "metadata": {},
     "output_type": "execute_result"
    }
   ],
   "source": [
    "document_term_matrix = preprocessing.create_document_term_matrix(tokenized_corpus, meta['title'])\n",
    "document_term_matrix[:5]"
   ]
  },
  {
   "cell_type": "code",
   "execution_count": 7,
   "metadata": {},
   "outputs": [],
   "source": [
    "stopwords = preprocessing.list_mfw(document_term_matrix, most_frequent_tokens=100)"
   ]
  },
  {
   "cell_type": "code",
   "execution_count": 8,
   "metadata": {},
   "outputs": [
    {
     "name": "stdout",
     "output_type": "stream",
     "text": [
      "Total number of types in corpus: 24451\n",
      "Total number of hapax legomena: 19757\n"
     ]
    }
   ],
   "source": [
    "hapax_legomena = preprocessing.find_hapax_legomena(document_term_matrix)\n",
    "print(\"Total number of types in corpus:\", document_term_matrix.shape[1])\n",
    "print(\"Total number of hapax legomena:\", len(hapax_legomena))"
   ]
  },
  {
   "cell_type": "code",
   "execution_count": 9,
   "metadata": {},
   "outputs": [],
   "source": [
    "path_to_stopwordlist = Path('data', 'stopwords', 'de.txt')\n",
    "external_stopwords = [line.strip() for line in path_to_stopwordlist.open('r', encoding='utf-8')]"
   ]
  },
  {
   "cell_type": "code",
   "execution_count": 10,
   "metadata": {},
   "outputs": [],
   "source": [
    "features = stopwords + hapax_legomena + external_stopwords\n",
    "document_term_matrix = preprocessing.remove_features(features, document_term_matrix=document_term_matrix)"
   ]
  },
  {
   "cell_type": "code",
   "execution_count": 11,
   "metadata": {},
   "outputs": [
    {
     "data": {
      "text/plain": [
       "Index(['franzosen', 'genommen', 'abgewiesen', 'südlich', 'berlin', 'lassen',\n",
       "       'geschütze', 'englische', 'deutschland', 'januar',\n",
       "       ...\n",
       "       'schlechteste', 'dubatowka', 'palameix', 'verschlossene', 'eimer',\n",
       "       'schicksale', 'eilwagen', 'klippe', 'rennt', 'zuschrieb'],\n",
       "      dtype='object', length=4242)"
      ]
     },
     "execution_count": 11,
     "metadata": {},
     "output_type": "execute_result"
    }
   ],
   "source": [
    "vocabulary = document_term_matrix.columns\n",
    "vocabulary"
   ]
  },
  {
   "cell_type": "code",
   "execution_count": 12,
   "metadata": {},
   "outputs": [
    {
     "data": {
      "text/plain": [
       "array([[ 0,  1,  0, ...,  0,  0,  0],\n",
       "       [ 0,  9,  3, ...,  0,  0,  0],\n",
       "       [ 1,  1,  1, ...,  0,  0,  0],\n",
       "       ...,\n",
       "       [ 6,  6, 19, ...,  0,  0,  0],\n",
       "       [ 3,  2,  0, ...,  0,  0,  0],\n",
       "       [ 1,  3,  0, ...,  0,  0,  0]])"
      ]
     },
     "execution_count": 12,
     "metadata": {},
     "output_type": "execute_result"
    }
   ],
   "source": [
    "document_term_matrix_arr = document_term_matrix.values.astype(int)\n",
    "document_term_matrix_arr"
   ]
  },
  {
   "cell_type": "code",
   "execution_count": 13,
   "metadata": {},
   "outputs": [
    {
     "name": "stdout",
     "output_type": "stream",
     "text": [
      "Wall time: 9.63 s\n"
     ]
    }
   ],
   "source": [
    "%%time\n",
    "\n",
    "model = lda.LDA(n_topics=10, n_iter=1000)\n",
    "model.fit(document_term_matrix_arr)"
   ]
  },
  {
   "cell_type": "code",
   "execution_count": 14,
   "metadata": {},
   "outputs": [
    {
     "ename": "NameError",
     "evalue": "name 'model' is not defined",
     "output_type": "error",
     "traceback": [
      "\u001b[1;31m---------------------------------------------------------------------------\u001b[0m",
      "\u001b[1;31mNameError\u001b[0m                                 Traceback (most recent call last)",
      "\u001b[1;32m<ipython-input-14-35526858b1a8>\u001b[0m in \u001b[0;36m<module>\u001b[1;34m\u001b[0m\n\u001b[1;32m----> 1\u001b[1;33m topics = postprocessing.show_topics(model=model,\n\u001b[0m\u001b[0;32m      2\u001b[0m                                     vocabulary=vocabulary)\n\u001b[0;32m      3\u001b[0m \u001b[0mtopics\u001b[0m\u001b[1;33m\u001b[0m\u001b[1;33m\u001b[0m\u001b[0m\n",
      "\u001b[1;31mNameError\u001b[0m: name 'model' is not defined"
     ]
    }
   ],
   "source": [
    "topics = postprocessing.show_topics(model=model,\n",
    "                                    vocabulary=vocabulary)\n",
    "topics"
   ]
  },
  {
   "cell_type": "code",
   "execution_count": null,
   "metadata": {},
   "outputs": [],
   "source": [
    "document_topics = postprocessing.show_document_topics(model=model,\n",
    "                                                      topics=topics,\n",
    "                                                      document_labels=meta['title'])\n",
    "document_topics"
   ]
  },
  {
   "cell_type": "markdown",
   "metadata": {},
   "source": [
    "# Visualizations"
   ]
  },
  {
   "cell_type": "markdown",
   "metadata": {},
   "source": [
    "### `PlotDocumentTopics`"
   ]
  },
  {
   "cell_type": "code",
   "execution_count": null,
   "metadata": {},
   "outputs": [],
   "source": [
    "from bokeh.io import output_notebook, show\n",
    "output_notebook()\n",
    "%matplotlib inline"
   ]
  },
  {
   "cell_type": "code",
   "execution_count": null,
   "metadata": {},
   "outputs": [],
   "source": [
    "PlotDocumentTopics = visualization.PlotDocumentTopics(document_topics)"
   ]
  },
  {
   "cell_type": "markdown",
   "metadata": {},
   "source": [
    "### `static_heatmap`"
   ]
  },
  {
   "cell_type": "code",
   "execution_count": null,
   "metadata": {},
   "outputs": [],
   "source": [
    "static_heatmap = PlotDocumentTopics.static_heatmap(colorbar=False)"
   ]
  },
  {
   "cell_type": "markdown",
   "metadata": {},
   "source": [
    "### `static_barchart_per_topic`"
   ]
  },
  {
   "cell_type": "code",
   "execution_count": null,
   "metadata": {},
   "outputs": [],
   "source": [
    "static_barchart_per_topic = PlotDocumentTopics.static_barchart_per_topic(index=0, # or index='abgewiesen südlich genommen'\n",
    "                                                                         describer='Topic',\n",
    "                                                                         alpha=None,\n",
    "                                                                         figsize=(11, 7))"
   ]
  },
  {
   "cell_type": "markdown",
   "metadata": {},
   "source": [
    "### `static_barchart_per_document`"
   ]
  },
  {
   "cell_type": "code",
   "execution_count": null,
   "metadata": {},
   "outputs": [],
   "source": [
    "static_barchart_per_document = PlotDocumentTopics.static_barchart_per_document(index=0,\n",
    "                                                                               describer='Document')"
   ]
  },
  {
   "cell_type": "markdown",
   "metadata": {},
   "source": [
    "### `interactive_heatmap`"
   ]
  },
  {
   "cell_type": "code",
   "execution_count": null,
   "metadata": {},
   "outputs": [],
   "source": [
    "interactive_heatmap = PlotDocumentTopics.interactive_heatmap(width=800,\n",
    "                                                             height=550,\n",
    "                                                             colorbar=False)\n",
    "show(interactive_heatmap, notebook_handle=True)"
   ]
  },
  {
   "cell_type": "markdown",
   "metadata": {},
   "source": [
    "### `interactive_barchart_per_topic`"
   ]
  },
  {
   "cell_type": "code",
   "execution_count": null,
   "metadata": {},
   "outputs": [],
   "source": [
    "interactive_barchart_per_topic = PlotDocumentTopics.interactive_barchart_per_topic(index=0,\n",
    "                                                                                   describer='Topic',\n",
    "                                                                                   width=800)\n",
    "show(interactive_barchart_per_topic, notebook_handle=True)"
   ]
  },
  {
   "cell_type": "markdown",
   "metadata": {},
   "source": [
    "### `interactive_barchart_per_document`"
   ]
  },
  {
   "cell_type": "code",
   "execution_count": null,
   "metadata": {
    "scrolled": false
   },
   "outputs": [],
   "source": [
    "interactive_barchart_per_document = PlotDocumentTopics.interactive_barchart_per_document(index=0,\n",
    "                                                                                         describer='Document',\n",
    "                                                                                         width=800)\n",
    "show(interactive_barchart_per_document, notebook_handle=True)"
   ]
  }
 ],
 "metadata": {
  "kernelspec": {
   "display_name": "Python 3",
   "language": "python",
   "name": "python3"
  },
  "language_info": {
   "codemirror_mode": {
    "name": "ipython",
    "version": 3
   },
   "file_extension": ".py",
   "mimetype": "text/x-python",
   "name": "python",
   "nbconvert_exporter": "python",
   "pygments_lexer": "ipython3",
   "version": "3.7.3"
  }
 },
 "nbformat": 4,
 "nbformat_minor": 2
}
