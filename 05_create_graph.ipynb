{
 "cells": [
  {
   "cell_type": "code",
   "execution_count": null,
   "metadata": {},
   "outputs": [],
   "source": [
    "import pandas as pd\n",
    "import matplotlib.pyplot as plt\n",
    "import seaborn as sns\n",
    "import numpy as np\n",
    "import igraph as ig\n",
    "from tqdm import tqdm_notebook as tqdm"
   ]
  },
  {
   "cell_type": "markdown",
   "metadata": {},
   "source": [
    "### Config"
   ]
  },
  {
   "cell_type": "code",
   "execution_count": null,
   "metadata": {},
   "outputs": [],
   "source": [
    "plt.style.use(\"seaborn-whitegrid\")\n",
    "plt.rc('ps',fonttype = 42)\n",
    "plt.rc('pdf',fonttype = 42)\n",
    "plt.rcParams.update({'font.size': 20})\n",
    "plt.rcParams['ps.useafm'] = True\n",
    "plt.rcParams['pdf.use14corefonts'] = True\n",
    "plt.rcParams['axes.unicode_minus'] = False"
   ]
  },
  {
   "cell_type": "markdown",
   "metadata": {},
   "source": [
    "### Load data"
   ]
  },
  {
   "cell_type": "code",
   "execution_count": null,
   "metadata": {},
   "outputs": [],
   "source": [
    "texts_df = pd.read_pickle(\"data/processed/texts.p\")"
   ]
  },
  {
   "cell_type": "markdown",
   "metadata": {},
   "source": [
    "### Prepare data"
   ]
  },
  {
   "cell_type": "markdown",
   "metadata": {},
   "source": [
    "#### Fix authors"
   ]
  },
  {
   "cell_type": "code",
   "execution_count": null,
   "metadata": {},
   "outputs": [],
   "source": [
    "author_fix = {\n",
    "    \"Bachiller D. P. Gatell\": \"Bachiller D. P. Gatell.\",\n",
    "    \"Eliza Haywood\": \"Eliza Fowler Haywood\",\n",
    "}\n",
    "texts_df[\"author\"] = texts_df[\"author\"].replace(author_fix)"
   ]
  },
  {
   "cell_type": "code",
   "execution_count": null,
   "metadata": {},
   "outputs": [],
   "source": [
    "topics_by_author_df = texts_df.groupby(\"author\")[\"topics\"].agg(lambda x: set.union(*x))"
   ]
  },
  {
   "cell_type": "markdown",
   "metadata": {},
   "source": [
    "### Create Graph"
   ]
  },
  {
   "cell_type": "code",
   "execution_count": null,
   "metadata": {},
   "outputs": [],
   "source": [
    "g = ig.Graph(directed=False)"
   ]
  },
  {
   "cell_type": "code",
   "execution_count": null,
   "metadata": {},
   "outputs": [],
   "source": [
    "for a in texts_df[\"author\"].unique():\n",
    "    #if \"Anonym\" in a or \"Anonyme\" in a or \"Anónimo\" in a or \"[\" in a or \"missing\" in a:\n",
    "    #    continue\n",
    "    g.add_vertex(a, type=True)"
   ]
  },
  {
   "cell_type": "code",
   "execution_count": null,
   "metadata": {},
   "outputs": [],
   "source": [
    "for t in set.union(*texts_df.groupby([\"filename\", \"author\", \"language\"])[\"topics\"].agg(lambda x: set.intersection(*x))):\n",
    "    g.add_vertex(t, type=False)"
   ]
  },
  {
   "cell_type": "code",
   "execution_count": null,
   "metadata": {},
   "outputs": [],
   "source": [
    "list(set.union(*texts_df.groupby([\"filename\", \"author\", \"language\"])[\"topics\"].agg(lambda x: set.intersection(*x))))"
   ]
  },
  {
   "cell_type": "code",
   "execution_count": null,
   "metadata": {},
   "outputs": [],
   "source": [
    "for a, t in topics_by_author_df.items():\n",
    "    for cur_t in t:\n",
    "        if a in g.vs[\"name\"]:\n",
    "            g.add_edge(a, cur_t)"
   ]
  },
  {
   "cell_type": "code",
   "execution_count": null,
   "metadata": {},
   "outputs": [],
   "source": [
    "color_dict = {False: \"green\", True: \"red\"}\n",
    "visual_style = {}\n",
    "visual_style[\"vertex_size\"] = g.degree()\n",
    "visual_style[\"vertex_label\"] = g.vs[\"name\"]\n",
    "visual_style[\"vertex_label_size\"] = 8\n",
    "visual_style[\"vertex_color\"] = [color_dict[i] for i in g.vs[\"type\"]]\n",
    "visual_style[\"edge_color\"] = \"grey\"\n",
    "#visual_style[\"layout\"] = g.layout_bipartite(g.vs[\"type\"], hgap=1000*1000)\n",
    "visual_style[\"layout\"] = g.layout_kamada_kawai()\n",
    "visual_style[\"bbox\"] = (1000, 1000)\n",
    "visual_style[\"margin\"] = 100\n",
    "ig.plot(g, \"author_topics_graph.pdf\", **visual_style)"
   ]
  },
  {
   "cell_type": "code",
   "execution_count": null,
   "metadata": {},
   "outputs": [],
   "source": [
    "g_topics, g_authors = g.bipartite_projection()"
   ]
  },
  {
   "cell_type": "code",
   "execution_count": null,
   "metadata": {},
   "outputs": [],
   "source": [
    "visual_style = {}\n",
    "visual_style[\"vertex_size\"] = 50\n",
    "visual_style[\"vertex_label\"] = g_topics.vs[\"name\"]\n",
    "visual_style[\"vertex_label_size\"] = 8\n",
    "visual_style[\"layout\"] = g_topics.layout_kamada_kawai()\n",
    "visual_style[\"bbox\"] = (1000, 1000)\n",
    "visual_style[\"margin\"] = 50\n",
    "ig.plot(g_topics, **visual_style)"
   ]
  },
  {
   "cell_type": "code",
   "execution_count": null,
   "metadata": {},
   "outputs": [],
   "source": [
    "visual_style = {}\n",
    "visual_style[\"vertex_size\"] = 50\n",
    "visual_style[\"vertex_label\"] = g_authors.vs[\"name\"]\n",
    "visual_style[\"vertex_label_size\"] = 8\n",
    "visual_style[\"layout\"] = g_authors.layout_kamada_kawai()\n",
    "visual_style[\"bbox\"] = (1000, 1000)\n",
    "visual_style[\"margin\"] = 50\n",
    "ig.plot(g_authors, **visual_style)"
   ]
  },
  {
   "cell_type": "code",
   "execution_count": null,
   "metadata": {},
   "outputs": [],
   "source": []
  }
 ],
 "metadata": {
  "kernelspec": {
   "display_name": "Python 3",
   "language": "python",
   "name": "python3"
  },
  "language_info": {
   "codemirror_mode": {
    "name": "ipython",
    "version": 3
   },
   "file_extension": ".py",
   "mimetype": "text/x-python",
   "name": "python",
   "nbconvert_exporter": "python",
   "pygments_lexer": "ipython3",
   "version": "3.7.0"
  }
 },
 "nbformat": 4,
 "nbformat_minor": 2
}
