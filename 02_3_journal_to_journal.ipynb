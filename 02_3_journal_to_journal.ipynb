{
 "cells": [
  {
   "cell_type": "code",
   "execution_count": 1,
   "metadata": {},
   "outputs": [],
   "source": [
    "import pandas as pd\n",
    "import matplotlib.pyplot as plt\n",
    "import seaborn as sns\n",
    "import numpy as np\n",
    "plt.style.use(\"seaborn-whitegrid\")\n",
    "plt.rc('ps',fonttype = 42)\n",
    "plt.rc('pdf',fonttype = 42)\n",
    "plt.rcParams.update({'font.size': 20})\n",
    "plt.rcParams['ps.useafm'] = True\n",
    "#plt.rcParams['pdf.use14corefonts'] = True\n",
    "plt.rcParams['axes.unicode_minus'] = False\n",
    "\n",
    "import warnings\n",
    "warnings.filterwarnings(\"ignore\", category=UserWarning)"
   ]
  },
  {
   "cell_type": "code",
   "execution_count": 2,
   "metadata": {},
   "outputs": [],
   "source": [
    "texts_df = pd.read_pickle(\"data/processed/texts.p\")"
   ]
  },
  {
   "cell_type": "markdown",
   "metadata": {},
   "source": [
    "# Extract works"
   ]
  },
  {
   "cell_type": "code",
   "execution_count": 3,
   "metadata": {},
   "outputs": [
    {
     "name": "stdout",
     "output_type": "stream",
     "text": [
      "Number of unique works: 1352\n",
      "Number of works occurring more than once: 279\n",
      "Number of works occurring more than 5 times: 47\n"
     ]
    }
   ],
   "source": [
    "works_cnt = pd.Series()\n",
    "for works in texts_df[\"works\"]:\n",
    "    for work in works:\n",
    "        if works.get(work).get('norm') == \"\":\n",
    "            if work not in works_cnt:\n",
    "                works_cnt[work] = 1\n",
    "            else:\n",
    "                works_cnt[work] += 1\n",
    "        else:\n",
    "            if works.get(work).get('norm') not in works_cnt:\n",
    "                works_cnt[works.get(work).get('norm')] = 1\n",
    "            else:\n",
    "                works_cnt[works.get(work).get('norm')] += 1\n",
    "print('Number of unique works: ' + str(len(works_cnt)))\n",
    "print('Number of works occurring more than once: ' + str(len(works_cnt[works_cnt>1])))\n",
    "print('Number of works occurring more than 5 times: ' + str(len(works_cnt[works_cnt>5])))"
   ]
  },
  {
   "cell_type": "code",
   "execution_count": 4,
   "metadata": {},
   "outputs": [
    {
     "name": "stderr",
     "output_type": "stream",
     "text": [
      "/home/bgeiger/anaconda3/lib/python3.6/site-packages/ipykernel_launcher.py:1: FutureWarning: The signature of `Series.to_csv` was aligned to that of `DataFrame.to_csv`, and argument 'header' will change its default value from False to True: please pass an explicit value to suppress this warning.\n",
      "  \"\"\"Entry point for launching an IPython kernel.\n"
     ]
    }
   ],
   "source": [
    "works_cnt.sort_index().to_csv('worksnames.csv')"
   ]
  },
  {
   "cell_type": "code",
   "execution_count": 5,
   "metadata": {},
   "outputs": [
    {
     "name": "stdout",
     "output_type": "stream",
     "text": [
      "Der Bürger\n",
      "Der Zuschauer\n",
      "Die Zuschauerin\n",
      "Donna galante\n",
      "El Amigo y Corresponsal del Censor\n",
      "El Apologista Universal\n",
      "El Argonauta Español\n",
      "El Belianis literario\n",
      "El Catón Compostelano\n",
      "El Censor\n",
      "El Corresponsal del Apologista\n",
      "El Corresponsal del Censor\n",
      "El Curioso Entretenido\n",
      "El Duende Crítico\n",
      "El Duende de Madrid\n",
      "El Duende especulativo sobre la vida civil\n",
      "El Escritor sin Titulo\n",
      "El Filosofo à la Moda\n",
      "El Juzgado Casero\n",
      "El Murmurador imparcial\n",
      "El Observador\n",
      "El Pensador\n",
      "El Regañón general\n",
      "El Teniente del Apologista\n",
      "Gazzetta urbana veneta\n",
      "Gli Osservatori veneti\n",
      "Il Caffè\n",
      "Il Filosofo alla Moda\n",
      "Il Socrate Veneto\n",
      "L'Indigent philosophe ou l'homme sans souci\n",
      "La Bagatelle\n",
      "La Bigarure\n",
      "La Frusta letteraria di Aristarco Scannabue\n",
      "La Gazzetta Veneta\n",
      "La Pensadora Gaditana\n",
      "La Pensatriz salmantina\n",
      "La Spectatrice\n",
      "La Spectatrice danoise\n",
      "La Spectatrice. Ouvrage traduit de l'anglois\n",
      "La Spettatrice\n",
      "Le Cabinet du Philosophe\n",
      "Le Censeur ou Caractères des Mœurs de la Haye\n",
      "Le Mentor moderne\n",
      "Le Misantrope\n",
      "Le Monde\n",
      "Le Monde comme il est (Bastide)\n",
      "Le Nouveau Spectateur (Bastide)\n",
      "Le Nouveau Spectateur français\n",
      "Le Philosophe nouvelliste\n",
      "Le Spectateur français (Marivaux)\n",
      "Le Spectateur français avant la révolution\n",
      "Le Spectateur français ou Journal des Mœurs\n",
      "Le Spectateur français ou le Nouveau Socrate moderne\n",
      "Le Spectateur françois pendant le gouvernement révolutionnaire\n",
      "Le Spectateur inconnu\n",
      "Le Spectateur moderne\n",
      "Le Spectateur ou le Socrate moderne\n",
      "Le Spectateur suisse\n",
      "Leipziger Spectateur\n",
      "Les Chiffons\n",
      "Lo Spettatore italiano\n",
      "L’Osservatore veneto\n",
      "O Anonymo. Repartido pelas semanas, para divertimento e utilidade do publico\n",
      "Osservatore Toscano\n",
      "Spettatore piemontese\n",
      "The Female Spectator\n",
      "\n",
      "Number of Journals: 66\n"
     ]
    }
   ],
   "source": [
    "texts_df.loc[texts_df.journal_title=='Le Spectateur français ou le Nouveau Socrate moderen','journal_title']='Le Spectateur français ou le Nouveau Socrate moderne'\n",
    "texts_df.loc[texts_df.journal_title=='Le Spectateur françois ou le Nouveau Socrate moderne','journal_title']='Le Spectateur français ou le Nouveau Socrate moderne'\n",
    "texts_df.loc[texts_df.journal_title=='Le Spectateur français ou le Nouveau Socrate moderne','journal_title']='Le Spectateur français ou le Nouveau Socrate moderne'\n",
    "texts_df.loc[texts_df.journal_title=='Gazzetta urbana \\t\\t\\t\\t\\t\\tveneta','journal_title']='Gazzetta urbana veneta'\n",
    "texts_df.loc[texts_df.journal_title=='Gazzetta urbana veneta','journal_title']='Gazzetta urbana veneta'\n",
    "texts_df.loc[texts_df.journal_title=='Le Spectateur français ou Journal des Mœurs','journal_title']='Le Spectateur français ou Journal des Mœurs'\n",
    "texts_df.loc[texts_df.journal_title=='Le Spectateur français, ou Journal des moeurs','journal_title']='Le Spectateur français ou Journal des Mœurs'\n",
    "texts_df = texts_df.drop(texts_df[texts_df.journal_title=='missing'].index)\n",
    "for journal_name in sorted(set(texts_df.journal_title.unique())):\n",
    "    print(journal_name)\n",
    "    \n",
    "print('\\nNumber of Journals: '+str(len(texts_df.journal_title.unique())))"
   ]
  },
  {
   "cell_type": "code",
   "execution_count": 7,
   "metadata": {},
   "outputs": [
    {
     "ename": "IndexError",
     "evalue": "list index out of range",
     "output_type": "error",
     "traceback": [
      "\u001b[0;31m---------------------------------------------------------------------------\u001b[0m",
      "\u001b[0;31mIndexError\u001b[0m                                Traceback (most recent call last)",
      "\u001b[0;32m<ipython-input-7-1d3c199ae9a6>\u001b[0m in \u001b[0;36m<module>\u001b[0;34m()\u001b[0m\n\u001b[1;32m      2\u001b[0m \u001b[0;32mwith\u001b[0m \u001b[0mopen\u001b[0m\u001b[0;34m(\u001b[0m\u001b[0;34m'journal_dictionary_200113.csv'\u001b[0m\u001b[0;34m,\u001b[0m \u001b[0mmode\u001b[0m\u001b[0;34m=\u001b[0m\u001b[0;34m'r'\u001b[0m\u001b[0;34m)\u001b[0m \u001b[0;32mas\u001b[0m \u001b[0minfile\u001b[0m\u001b[0;34m:\u001b[0m\u001b[0;34m\u001b[0m\u001b[0m\n\u001b[1;32m      3\u001b[0m     \u001b[0mreader\u001b[0m \u001b[0;34m=\u001b[0m \u001b[0mcsv\u001b[0m\u001b[0;34m.\u001b[0m\u001b[0mreader\u001b[0m\u001b[0;34m(\u001b[0m\u001b[0minfile\u001b[0m\u001b[0;34m)\u001b[0m\u001b[0;34m\u001b[0m\u001b[0m\n\u001b[0;32m----> 4\u001b[0;31m     \u001b[0mmydict\u001b[0m \u001b[0;34m=\u001b[0m \u001b[0;34m{\u001b[0m\u001b[0mrows\u001b[0m\u001b[0;34m[\u001b[0m\u001b[0;36m0\u001b[0m\u001b[0;34m]\u001b[0m\u001b[0;34m:\u001b[0m\u001b[0mrows\u001b[0m\u001b[0;34m[\u001b[0m\u001b[0;36m1\u001b[0m\u001b[0;34m]\u001b[0m \u001b[0;32mfor\u001b[0m \u001b[0mrows\u001b[0m \u001b[0;32min\u001b[0m \u001b[0mreader\u001b[0m\u001b[0;34m}\u001b[0m\u001b[0;34m\u001b[0m\u001b[0m\n\u001b[0m",
      "\u001b[0;32m<ipython-input-7-1d3c199ae9a6>\u001b[0m in \u001b[0;36m<dictcomp>\u001b[0;34m(.0)\u001b[0m\n\u001b[1;32m      2\u001b[0m \u001b[0;32mwith\u001b[0m \u001b[0mopen\u001b[0m\u001b[0;34m(\u001b[0m\u001b[0;34m'journal_dictionary_200113.csv'\u001b[0m\u001b[0;34m,\u001b[0m \u001b[0mmode\u001b[0m\u001b[0;34m=\u001b[0m\u001b[0;34m'r'\u001b[0m\u001b[0;34m)\u001b[0m \u001b[0;32mas\u001b[0m \u001b[0minfile\u001b[0m\u001b[0;34m:\u001b[0m\u001b[0;34m\u001b[0m\u001b[0m\n\u001b[1;32m      3\u001b[0m     \u001b[0mreader\u001b[0m \u001b[0;34m=\u001b[0m \u001b[0mcsv\u001b[0m\u001b[0;34m.\u001b[0m\u001b[0mreader\u001b[0m\u001b[0;34m(\u001b[0m\u001b[0minfile\u001b[0m\u001b[0;34m)\u001b[0m\u001b[0;34m\u001b[0m\u001b[0m\n\u001b[0;32m----> 4\u001b[0;31m     \u001b[0mmydict\u001b[0m \u001b[0;34m=\u001b[0m \u001b[0;34m{\u001b[0m\u001b[0mrows\u001b[0m\u001b[0;34m[\u001b[0m\u001b[0;36m0\u001b[0m\u001b[0;34m]\u001b[0m\u001b[0;34m:\u001b[0m\u001b[0mrows\u001b[0m\u001b[0;34m[\u001b[0m\u001b[0;36m1\u001b[0m\u001b[0;34m]\u001b[0m \u001b[0;32mfor\u001b[0m \u001b[0mrows\u001b[0m \u001b[0;32min\u001b[0m \u001b[0mreader\u001b[0m\u001b[0;34m}\u001b[0m\u001b[0;34m\u001b[0m\u001b[0m\n\u001b[0m",
      "\u001b[0;31mIndexError\u001b[0m: list index out of range"
     ]
    }
   ],
   "source": [
    "import csv\n",
    "with open('journal_dictionary_200113.csv', mode='r') as infile:\n",
    "    reader = csv.reader(infile)\n",
    "    mydict = {rows[0]:rows[1] for rows in reader}"
   ]
  },
  {
   "cell_type": "code",
   "execution_count": 8,
   "metadata": {},
   "outputs": [
    {
     "ename": "NameError",
     "evalue": "name 'mydict' is not defined",
     "output_type": "error",
     "traceback": [
      "\u001b[0;31m---------------------------------------------------------------------------\u001b[0m",
      "\u001b[0;31mNameError\u001b[0m                                 Traceback (most recent call last)",
      "\u001b[0;32m<ipython-input-8-a0537c24f321>\u001b[0m in \u001b[0;36m<module>\u001b[0;34m()\u001b[0m\n\u001b[0;32m----> 1\u001b[0;31m \u001b[0mmydict\u001b[0m\u001b[0;34m\u001b[0m\u001b[0m\n\u001b[0m",
      "\u001b[0;31mNameError\u001b[0m: name 'mydict' is not defined"
     ]
    }
   ],
   "source": [
    "mydict"
   ]
  },
  {
   "cell_type": "code",
   "execution_count": null,
   "metadata": {},
   "outputs": [],
   "source": [
    "new_works_cnt=works_cnt.rename(mydict)"
   ]
  },
  {
   "cell_type": "code",
   "execution_count": null,
   "metadata": {},
   "outputs": [],
   "source": [
    "new_works_cnt=new_works_cnt.groupby(new_works_cnt.index).sum()\n",
    "print('Number of unique mentioned journal names: ' + str(len(new_works_cnt)))\n",
    "print('Number of journal names occurring more than once: ' + str(len(new_works_cnt[new_works_cnt>1])))\n",
    "print('Number of journal names occurring more than 5 times: ' + str(len(new_works_cnt[new_works_cnt>5])))"
   ]
  },
  {
   "cell_type": "code",
   "execution_count": null,
   "metadata": {},
   "outputs": [],
   "source": [
    "works_df=texts_df\n",
    "works_short=new_works_cnt\n",
    "for work in works_short.index:\n",
    "    #print(work)\n",
    "    works_df[work]=0\n",
    "    if not work in mydict:\n",
    "        mydict[work]=work\n",
    "for row in range(len(works_df)):\n",
    "    #print(works_df['works'].iloc[row])\n",
    "    for work in works_df['works'].iloc[row]:\n",
    "        #print(work)\n",
    "        if works_df['works'].iloc[row].get(work).get('norm') == \"\":\n",
    "            if mydict.get(work) in set(works_short.index):\n",
    "                works_df.loc[works_df.index[row],mydict.get(work)]=1\n",
    "        else:\n",
    "            if mydict.get(works_df['works'].iloc[row].get(work).get('norm')) in set(works_short.index):\n",
    "                works_df.loc[works_df.index[row],mydict.get(works_df['works'].iloc[row].get(work).get('norm'))]=1\n",
    "            \n",
    "        \n",
    "                \n",
    "reduced_works_df=works_df.groupby('journal_title').sum()#[['journal_title','language'] + list(works_short.index)]\n",
    "reduced_works_df=reduced_works_df.drop(labels='',axis=1)"
   ]
  },
  {
   "cell_type": "code",
   "execution_count": null,
   "metadata": {},
   "outputs": [],
   "source": [
    "#reduced_works_df.columns = [x.encode('utf-8').decode('latin-1') for x in reduced_works_df.columns]\n",
    "#reduced_works_df.index = [x.encode('utf-8').decode('latin-1') for x in reduced_works_df.index]"
   ]
  },
  {
   "cell_type": "code",
   "execution_count": null,
   "metadata": {},
   "outputs": [],
   "source": [
    "import networkx as nx\n",
    "import numpy as np"
   ]
  },
  {
   "cell_type": "code",
   "execution_count": null,
   "metadata": {},
   "outputs": [],
   "source": [
    "for journal in set(list(reduced_works_df.columns)+list(reduced_works_df.index)):\n",
    "    if journal not in reduced_works_df.columns:\n",
    "        reduced_works_df[journal]=0\n",
    "    if journal not in reduced_works_df.index:\n",
    "        reduced_works_df.loc[journal]=0"
   ]
  },
  {
   "cell_type": "code",
   "execution_count": null,
   "metadata": {},
   "outputs": [],
   "source": [
    "reduced_works_df"
   ]
  },
  {
   "cell_type": "code",
   "execution_count": null,
   "metadata": {},
   "outputs": [],
   "source": [
    "G = nx.from_pandas_adjacency(reduced_works_df,create_using=nx.DiGraph())\n",
    "plt.figure(figsize=(15,8))\n",
    "nx.draw_kamada_kawai(G,with_labels=True,font_size=18,font_color='k',edge_color='orange',alpha=0.8)\n",
    "plt.show()"
   ]
  },
  {
   "cell_type": "code",
   "execution_count": null,
   "metadata": {
    "scrolled": false
   },
   "outputs": [],
   "source": [
    "A=G\n",
    "A.remove_nodes_from(list(nx.isolates(G)))\n",
    "plt.figure(figsize=(12,8))\n",
    "nx.draw_spring(A,with_labels=True,font_size=16,font_color='k',edge_color='orange',alpha=0.8)\n",
    "plt.show()"
   ]
  },
  {
   "cell_type": "code",
   "execution_count": null,
   "metadata": {},
   "outputs": [],
   "source": [
    "B=nx.MultiDiGraph()\n",
    "B.add_nodes_from(G);\n",
    "B.add_edges_from(G.edges,color='orange',weight=1);\n",
    "\n",
    "B.add_edge('The Spectator','Le Spectateur français ou le Nouveau Socrate moderne',color='red', weight=3)\n",
    "B.add_edge('The Spectator','Der Zuschauer',color='red', weight=3)\n",
    "B.add_edge('Le Spectateur français ou le Nouveau Socrate moderne','Il Filosofo alla Moda',color='red', weight=3)\n",
    "B.add_edge('Il Filosofo alla Moda','El Filosofo à la Moda',color='red', weight=3)\n",
    "\n",
    "B.add_edge('The Female Spectator','Die Zuschauerin',color='red', weight=3)\n",
    "B.add_edge('The Female Spectator','La Spectatrice. Ouvrage traduit de l\\'anglois',color='red', weight=3)\n",
    "B.add_edge('The Female Spectator','La Spettatrice',color='red', weight=3)\n",
    "\n",
    "B.add_edge('The Tatler','Le Philosophe nouvelliste',color='red', weight=3)\n",
    "\n",
    "B.add_edge('The Guardian','Le Mentor moderne',color='red', weight=3)"
   ]
  },
  {
   "cell_type": "code",
   "execution_count": null,
   "metadata": {},
   "outputs": [],
   "source": [
    "works_to_language=works_df[['journal_title','language']].drop_duplicates()\n",
    "works_to_language=works_to_language.append({'journal_title':'The Tatler','language':'English'},ignore_index=True)\n",
    "works_to_language=works_to_language.append({'journal_title':'The Guardian','language':'English'},ignore_index=True)\n",
    "works_to_language=works_to_language.append({'journal_title':'The Spectator','language':'English'},ignore_index=True)\n",
    "\n",
    "\n",
    "language_to_color={'French':'red','English':'blue','Italian':'green','Spanish; Castilian':'brown','German':'cyan'}\n",
    "\n",
    "\n",
    "works_to_language=works_to_language.replace({'language':language_to_color})"
   ]
  },
  {
   "cell_type": "code",
   "execution_count": null,
   "metadata": {},
   "outputs": [],
   "source": [
    "edges = B.edges()\n",
    "\n",
    "colors = []\n",
    "weights = []\n",
    "\n",
    "for (u,v,attrib_dict) in list(B.edges.data()):\n",
    "    colors.append(attrib_dict['color'])\n",
    "    weights.append(attrib_dict['weight'])\n",
    "\n",
    "node_color=[]\n",
    "for n in list(B.nodes):\n",
    "    node_color.append(works_to_language.loc[works_to_language['journal_title']==n]['language'].values[0])\n",
    "    B.nodes[n]['color']=works_to_language.loc[works_to_language['journal_title']==n]['language'].values[0]\n",
    "\n",
    "#nx.set_node_attributes(B, node_color, 'color')\n",
    "\n",
    "plt.figure(figsize=(12,8))\n",
    "pos=nx.spring_layout(B)\n",
    "nx.draw(B,pos=pos,with_labels=True,font_size=10,font_color='k',alpha=0.8,edgelist=[],node_color=node_color)\n",
    "nx.draw_networkx_edges(B, pos,with_labels=True,font_size=10,font_color='k',node_size=50,edge_color=colors,width=weights,alpha=0.8,connectionstyle='arc3,rad=.25')\n",
    "plt.show()"
   ]
  },
  {
   "cell_type": "code",
   "execution_count": null,
   "metadata": {},
   "outputs": [],
   "source": [
    "A = nx.nx_agraph.to_agraph(G)"
   ]
  },
  {
   "cell_type": "code",
   "execution_count": null,
   "metadata": {},
   "outputs": [],
   "source": [
    "from pygraphviz import *\n",
    "A.draw('journal2journal.eps',prog='fdp')"
   ]
  },
  {
   "cell_type": "code",
   "execution_count": null,
   "metadata": {},
   "outputs": [],
   "source": [
    "nx.write_gexf(G, \"test.gexf\")"
   ]
  },
  {
   "cell_type": "markdown",
   "metadata": {},
   "source": [
    "## Real Connections between Journals"
   ]
  },
  {
   "cell_type": "code",
   "execution_count": null,
   "metadata": {},
   "outputs": [],
   "source": [
    "nx.write_gexf(B, \"test_b.gexf\")"
   ]
  }
 ],
 "metadata": {
  "kernelspec": {
   "display_name": "Python 3",
   "language": "python",
   "name": "python3"
  },
  "language_info": {
   "codemirror_mode": {
    "name": "ipython",
    "version": 3
   },
   "file_extension": ".py",
   "mimetype": "text/x-python",
   "name": "python",
   "nbconvert_exporter": "python",
   "pygments_lexer": "ipython3",
   "version": "3.6.5"
  }
 },
 "nbformat": 4,
 "nbformat_minor": 2
}
