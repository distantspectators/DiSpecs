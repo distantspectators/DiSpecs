{
 "cells": [
  {
   "cell_type": "markdown",
   "metadata": {},
   "source": [
    "### Imports"
   ]
  },
  {
   "cell_type": "code",
   "execution_count": null,
   "metadata": {},
   "outputs": [],
   "source": [
    "import pandas as pd\n",
    "import matplotlib.pyplot as plt\n",
    "import seaborn as sns\n",
    "import numpy as np"
   ]
  },
  {
   "cell_type": "markdown",
   "metadata": {},
   "source": [
    "### Config"
   ]
  },
  {
   "cell_type": "code",
   "execution_count": null,
   "metadata": {},
   "outputs": [],
   "source": [
    "plt.style.use(\"seaborn-whitegrid\")\n",
    "plt.rc('ps',fonttype = 42)\n",
    "plt.rc('pdf',fonttype = 42)\n",
    "plt.rcParams.update({'font.size': 20})\n",
    "plt.rcParams['ps.useafm'] = True\n",
    "plt.rcParams['pdf.use14corefonts'] = True\n",
    "plt.rcParams['axes.unicode_minus'] = False"
   ]
  },
  {
   "cell_type": "markdown",
   "metadata": {},
   "source": [
    "### Load data"
   ]
  },
  {
   "cell_type": "code",
   "execution_count": null,
   "metadata": {},
   "outputs": [],
   "source": [
    "texts_df = pd.read_pickle(\"data/processed/texts.p\")"
   ]
  },
  {
   "cell_type": "code",
   "execution_count": null,
   "metadata": {},
   "outputs": [],
   "source": [
    "texts_df.loc[0]"
   ]
  },
  {
   "cell_type": "code",
   "execution_count": null,
   "metadata": {},
   "outputs": [],
   "source": [
    "texts_df.groupby(\"filename\").apply(lambda x: \" \".join(x[\"text\"]))"
   ]
  },
  {
   "cell_type": "code",
   "execution_count": null,
   "metadata": {},
   "outputs": [],
   "source": [
    "len(texts_df[texts_df[\"places\"].apply(lambda x: True if len(x) > 0 else False)][\"filename\"].unique())"
   ]
  },
  {
   "cell_type": "code",
   "execution_count": null,
   "metadata": {},
   "outputs": [],
   "source": [
    "texts_df.groupby([\"title\", \"author\", \"volume\", \"issue\"])[\"language\"].unique()[texts_df.groupby([\"title\", \"author\", \"volume\", \"issue\"])[\"language\"].unique().apply(lambda x: True if len(x) == 2 else False)]"
   ]
  },
  {
   "cell_type": "markdown",
   "metadata": {
    "toc-hr-collapsed": false
   },
   "source": [
    "### Calculate statistics"
   ]
  },
  {
   "cell_type": "markdown",
   "metadata": {},
   "source": [
    "#### Languages"
   ]
  },
  {
   "cell_type": "code",
   "execution_count": null,
   "metadata": {},
   "outputs": [],
   "source": [
    "ax = texts_df.groupby([\"title\", \"author\", \"volume\", \"issue\"])[\"language\"].unique().value_counts().plot(kind=\"bar\", figsize=(5, 7))\n",
    "for p in ax.patches:\n",
    "    height = p.get_height()\n",
    "    ax.text(p.get_x()+p.get_width()/2., height + 0.1,height ,ha=\"center\", fontsize=10)\n",
    "plt.tight_layout()\n",
    "plt.savefig(\"results/plots/languages.pdf\")\n",
    "plt.close()"
   ]
  },
  {
   "cell_type": "markdown",
   "metadata": {},
   "source": [
    "#### Countries"
   ]
  },
  {
   "cell_type": "code",
   "execution_count": null,
   "metadata": {},
   "outputs": [],
   "source": [
    "ax = texts_df.groupby([\"title\", \"author\", \"volume\", \"issue\"])[\"country\"].unique().value_counts().plot(kind=\"bar\", figsize=(25, 5))\n",
    "for p in ax.patches:\n",
    "    height = p.get_height()\n",
    "    ax.text(p.get_x()+p.get_width()/2., height + 0.1,height ,ha=\"center\", fontsize=10)\n",
    "plt.tight_layout()\n",
    "plt.savefig(\"results/plots/countries.pdf\")\n",
    "plt.close()"
   ]
  },
  {
   "cell_type": "markdown",
   "metadata": {},
   "source": [
    "#### Topics"
   ]
  },
  {
   "cell_type": "code",
   "execution_count": null,
   "metadata": {},
   "outputs": [],
   "source": [
    "topics_count = pd.Series()\n",
    "for topics in texts_df.drop_duplicates(subset=[\"filename\"])[\"topics\"]:\n",
    "    for topic in topics:\n",
    "        if topic not in topics_count:\n",
    "            topics_count[topic] = 1\n",
    "        else:\n",
    "            topics_count[topic] += 1"
   ]
  },
  {
   "cell_type": "code",
   "execution_count": null,
   "metadata": {},
   "outputs": [],
   "source": [
    "ax = topics_count.plot(kind=\"bar\", figsize=(25, 7))\n",
    "for p in ax.patches:\n",
    "    height = p.get_height()\n",
    "    ax.text(p.get_x()+p.get_width()/2., height + 0.1,height ,ha=\"center\", fontsize=10)\n",
    "plt.tight_layout()\n",
    "plt.savefig(\"results/plots/topics.pdf\")\n",
    "plt.close()"
   ]
  },
  {
   "cell_type": "markdown",
   "metadata": {},
   "source": [
    "### Date"
   ]
  },
  {
   "cell_type": "code",
   "execution_count": null,
   "metadata": {},
   "outputs": [],
   "source": [
    "ax = texts_df.groupby(\"filename\")[\"date\"].unique().value_counts().plot(kind=\"bar\", figsize=(80, 5))\n",
    "for p in ax.patches:\n",
    "    height = p.get_height()\n",
    "    ax.text(p.get_x()+p.get_width()/2., height + 0.1,height ,ha=\"center\", fontsize=10)"
   ]
  },
  {
   "cell_type": "markdown",
   "metadata": {},
   "source": [
    "#### Authors"
   ]
  },
  {
   "cell_type": "code",
   "execution_count": null,
   "metadata": {},
   "outputs": [],
   "source": [
    "ax = texts_df.groupby(\"filename\")[\"author\"].unique().value_counts().plot(kind=\"bar\", figsize=(25, 25))\n",
    "for p in ax.patches:\n",
    "    height = p.get_height()\n",
    "    ax.text(p.get_x()+p.get_width()/2., height + 0.1,height ,ha=\"center\", fontsize=10)\n",
    "plt.tight_layout()\n",
    "plt.savefig(\"results/plots/authors.pdf\")\n",
    "plt.close()"
   ]
  },
  {
   "cell_type": "markdown",
   "metadata": {},
   "source": [
    "#### Text length"
   ]
  },
  {
   "cell_type": "code",
   "execution_count": null,
   "metadata": {},
   "outputs": [],
   "source": [
    "texts_df.groupby(\"filename\")[\"text\"].apply(lambda x: \" \".join(x)).apply(lambda x: len(x)).plot(kind=\"hist\")\n",
    "plt.tight_layout()\n",
    "plt.savefig(\"results/plots/textlength.pdf\")\n",
    "plt.close()"
   ]
  },
  {
   "cell_type": "code",
   "execution_count": null,
   "metadata": {},
   "outputs": [],
   "source": [
    "texts_df.groupby(\"filename\")[\"text\"].apply(lambda x: \" \".join(x)).apply(lambda x: len(x)).max()"
   ]
  },
  {
   "cell_type": "markdown",
   "metadata": {},
   "source": [
    "#### Which author where"
   ]
  },
  {
   "cell_type": "code",
   "execution_count": null,
   "metadata": {},
   "outputs": [],
   "source": [
    "a_c_table = pd.pivot_table(texts_df.drop_duplicates(subset=[\"filename\"]).groupby([\"author\", \"country\"]).size().reset_index(), index=[\"author\"], columns=[\"country\"], values=0)"
   ]
  },
  {
   "cell_type": "code",
   "execution_count": null,
   "metadata": {},
   "outputs": [],
   "source": [
    "plt.figure(figsize=(40,40))\n",
    "sns.heatmap(a_c_table, annot=False)\n",
    "#plt.show()\n",
    "plt.tight_layout()\n",
    "plt.savefig(\"results/plots/authors_to_countries.pdf\")\n",
    "plt.close()"
   ]
  },
  {
   "cell_type": "markdown",
   "metadata": {},
   "source": [
    "#### Which topic where"
   ]
  },
  {
   "cell_type": "code",
   "execution_count": null,
   "metadata": {},
   "outputs": [],
   "source": [
    "countries = texts_df[\"country\"].to_frame()\n",
    "topics = texts_df[\"topics\"].apply(lambda x:pd.Series(list(x))).reset_index().melt(id_vars=\"index\").dropna()[[\"index\", \"value\"]].set_index(\"index\")"
   ]
  },
  {
   "cell_type": "code",
   "execution_count": null,
   "metadata": {},
   "outputs": [],
   "source": [
    "t_c_df = pd.merge(topics, countries, left_index=True, right_index=True)\n",
    "t_c_df.columns = [\"topic\", \"country\"]"
   ]
  },
  {
   "cell_type": "code",
   "execution_count": null,
   "metadata": {},
   "outputs": [],
   "source": [
    "t_c_table = pd.pivot_table(t_c_df.groupby([\"topic\", \"country\"]).size().reset_index(), index=[\"topic\"], columns=[\"country\"], values=0)"
   ]
  },
  {
   "cell_type": "code",
   "execution_count": null,
   "metadata": {},
   "outputs": [],
   "source": [
    "plt.figure(figsize=(40,20))\n",
    "sns.heatmap(t_c_table, annot=False)\n",
    "#plt.show()\n",
    "plt.tight_layout()\n",
    "plt.savefig(\"results/plots/topics_to_countries.pdf\")\n",
    "plt.close()"
   ]
  },
  {
   "cell_type": "markdown",
   "metadata": {},
   "source": [
    "#### Which auhtor which language"
   ]
  },
  {
   "cell_type": "code",
   "execution_count": null,
   "metadata": {},
   "outputs": [],
   "source": [
    "a_l_table = pd.pivot_table(texts_df.drop_duplicates(subset=[\"filename\"]).groupby([\"author\", \"language\"]).size().reset_index(), index=[\"author\"], columns=[\"language\"], values=0)"
   ]
  },
  {
   "cell_type": "code",
   "execution_count": null,
   "metadata": {},
   "outputs": [],
   "source": [
    "plt.figure(figsize=(40,40))\n",
    "sns.heatmap(a_l_table, annot=False)\n",
    "#plt.show()\n",
    "plt.tight_layout()\n",
    "plt.savefig(\"results/plots/authors_to_languages.pdf\")\n",
    "plt.close()"
   ]
  },
  {
   "cell_type": "markdown",
   "metadata": {},
   "source": [
    "#### NDE"
   ]
  },
  {
   "cell_type": "code",
   "execution_count": null,
   "metadata": {},
   "outputs": [],
   "source": [
    "texts_df.groupby(\"nde\").size().plot(kind=\"bar\")\n",
    "plt.tight_layout()\n",
    "plt.savefig(\"results/plots/ndes.pdf\")\n",
    "plt.close()"
   ]
  },
  {
   "cell_type": "markdown",
   "metadata": {},
   "source": [
    "#### NDF"
   ]
  },
  {
   "cell_type": "code",
   "execution_count": null,
   "metadata": {},
   "outputs": [],
   "source": [
    "texts_df.groupby(\"ndf\").size().plot(kind=\"bar\")\n",
    "plt.tight_layout()\n",
    "plt.savefig(\"results/plots/ndfs.pdf\")\n",
    "plt.close()"
   ]
  },
  {
   "cell_type": "markdown",
   "metadata": {},
   "source": [
    "#### NDE to NDF"
   ]
  },
  {
   "cell_type": "code",
   "execution_count": null,
   "metadata": {},
   "outputs": [],
   "source": [
    "nde_ndf_table = pd.pivot_table(texts_df.groupby([\"nde\", \"ndf\"]).size().reset_index(), index=[\"ndf\"], columns=[\"nde\"], values=0)"
   ]
  },
  {
   "cell_type": "code",
   "execution_count": null,
   "metadata": {},
   "outputs": [],
   "source": [
    "plt.figure(figsize=(10,10))\n",
    "sns.heatmap(nde_ndf_table, annot=False)\n",
    "#plt.show()\n",
    "plt.tight_layout()\n",
    "plt.savefig(\"results/plots/ndfs_to_ndes.pdf\")\n",
    "plt.close()"
   ]
  },
  {
   "cell_type": "markdown",
   "metadata": {},
   "source": [
    "#### Author to NDF"
   ]
  },
  {
   "cell_type": "code",
   "execution_count": null,
   "metadata": {},
   "outputs": [],
   "source": [
    "author_ndf_table = pd.pivot_table(texts_df.groupby([\"author\", \"ndf\"]).size().reset_index(), index=[\"author\"], columns=[\"ndf\"], values=0)"
   ]
  },
  {
   "cell_type": "code",
   "execution_count": null,
   "metadata": {},
   "outputs": [],
   "source": [
    "plt.figure(figsize=(40,30))\n",
    "sns.heatmap(author_ndf_table, annot=False)\n",
    "#plt.show()\n",
    "plt.tight_layout()\n",
    "plt.savefig(\"results/plots/authors_to_ndfs.pdf\")\n",
    "plt.close()"
   ]
  },
  {
   "cell_type": "code",
   "execution_count": null,
   "metadata": {},
   "outputs": [],
   "source": []
  }
 ],
 "metadata": {
  "kernelspec": {
   "display_name": "Python 3",
   "language": "python",
   "name": "python3"
  },
  "language_info": {
   "codemirror_mode": {
    "name": "ipython",
    "version": 3
   },
   "file_extension": ".py",
   "mimetype": "text/x-python",
   "name": "python",
   "nbconvert_exporter": "python",
   "pygments_lexer": "ipython3",
   "version": "3.6.5"
  }
 },
 "nbformat": 4,
 "nbformat_minor": 2
}
